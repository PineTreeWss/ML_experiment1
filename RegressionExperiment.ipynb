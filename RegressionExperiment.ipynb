{
 "cells": [
  {
   "cell_type": "code",
   "execution_count": 4,
   "metadata": {},
   "outputs": [
    {
     "data": {
      "image/png": "[encoded data removed]",
      "text/plain": [
       "<matplotlib.figure.Figure at 0x145c9f689b0>"
      ]
     },
     "metadata": {},
     "output_type": "display_data"
    }
   ],
   "source": [
    "# %load housing2.py\n",
    "#本代码用于完成机器学习实验一中线性回归的操作\n",
    "#by 王松盛\n",
    "from sklearn.datasets import load_svmlight_file\n",
    "from sklearn.model_selection import train_test_split\n",
    "import numpy as np\n",
    "from numpy import linalg\n",
    "import matplotlib.pyplot as plt\n",
    "#先读取数据集\n",
    "def readData():\n",
    "    x,y = load_svmlight_file('./dataset/housing.txt',13)\n",
    "    x = x.toarray()\n",
    "    return x,y\n",
    "#切分数据集\n",
    "def splitData(x,y):\n",
    "    n_sample = len(y)\n",
    "    X_train, X_test, y_train, y_test = train_test_split(x,y, test_size = 0.33, random_state = 42)\n",
    "    return X_train,y_train,X_test,y_test\n",
    "#初始化模型:0初始化\n",
    "def getInitData():\n",
    "    w = np.array([0.0]*13)\n",
    "    b = 0.0\n",
    "    return w,b\n",
    "#输出线性分类的结果\n",
    "def linearClassifier(x,w,b):\n",
    "    #print ('w',w,'x',x,'b',b)\n",
    "    #input()\n",
    "    return (w*x).sum()+b\n",
    "#输出w和b梯度\n",
    "def GetGradient1(x,y,w,b):\n",
    "    wGradient = [0.0] * 13\n",
    "    for i in range(len(w)):\n",
    "        temp_w = np.copy(w)\n",
    "        temp_w[i] += 0.0001\n",
    "        wGradient[i] = (loss(x,y,temp_w,b) - loss(x,y,w,b)) / 0.0001\n",
    "    bGradient = (loss(x,y,w,b+0.0001) - loss(x,y,w,b))/0.0001\n",
    "    wGradient = np.array(wGradient)\n",
    "    return wGradient,bGradient\n",
    "#梯度下降算法\n",
    "def GetGradient(x,y,w,b):\n",
    "    temp_x = np.column_stack((x,np.array([1.0]*len(x)).T))\n",
    "    temp_w = w.tolist() + [b]\n",
    "    temp_w = np.array(temp_w)\n",
    "    Grad = 2 * temp_x.T.dot(np.dot(temp_w,temp_x.T) - y)\n",
    "    wGradient =np.array(Grad.tolist()[:-1])\n",
    "    bGradient = Grad.tolist()[-1]\n",
    "    return wGradient,bGradient\n",
    "def GradientDescent(x,y,w,b,wsteplen,n_iteration):\n",
    "    w_Group = [w]\n",
    "    b_Group = [b]\n",
    "    for i in range(n_iteration):\n",
    "        w = np.copy(w)\n",
    "        wGrad,bGrad = GetGradient(x,y,w,b)\n",
    "       # wGrad1,bGrad1 = GetGradient1(x,y,w,b)\n",
    "        #if bGrad != bGrad1:\n",
    "            #print (i)\n",
    "            #print (bGrad,bGrad1)\n",
    "            #print (x,y,w,b)\n",
    "            #input()\n",
    "        temp = wGrad.tolist() + [bGrad]\n",
    "        temp = np.array(temp)\n",
    "        temp /= linalg.norm(temp) * wsteplen\n",
    "        w -= temp[:-1]\n",
    "        b -= temp[-1]\n",
    "        w_Group.append(w)\n",
    "        b_Group.append(b)\n",
    "    return w_Group,b_Group\n",
    "#计算数据集的Square loss\n",
    "def loss(x,y,w,b):\n",
    "    loss = 0.0\n",
    "    for i in range(len(x)):\n",
    "        dif = linearClassifier(x[i],w,b)-y[i]\n",
    "        loss += dif * dif\n",
    "    loss /= len(x)\n",
    "    return loss\n",
    "#主程序\n",
    "def main(iteration):\n",
    "    x,y = readData()\n",
    "    train_x,train_y,test_x,test_y = splitData(x,y)\n",
    "    w,b = getInitData()\n",
    "    w_group,b_Group = GradientDescent(train_x,train_y,w,b,100,iteration)\n",
    "    train_dif_Group = []\n",
    "    test_dif_Group = []\n",
    "    for i in range(len(w_group)):\n",
    "        #print ('w',w_group[i])\n",
    "        #print ('b',b_Group[i])\n",
    "        train_dif_Group.append(loss(train_x,train_y,w_group[i],b_Group[i]))\n",
    "        test_dif_Group.append(loss(test_x,test_y,w_group[i],b_Group[i]))\n",
    "        #print (train_dif_Group[-1])\n",
    "        #print (test_dif_Group[-1])\n",
    "    #print (train_dif_Group)\n",
    "    #print (test_dif_Group)\n",
    "    plt.plot([i for i in range(iteration+1)],train_dif_Group, label = 'train_loss')\n",
    "    plt.plot([i for i in range(iteration+1)], test_dif_Group, label= 'test_loss')\n",
    "    plt.show()\n",
    "main(100)\n"
   ]
  },
  {
   "cell_type": "code",
   "execution_count": null,
   "metadata": {
    "collapsed": true
   },
   "outputs": [],
   "source": []
  }
 ],
 "metadata": {
  "kernelspec": {
   "display_name": "Python 3",
   "language": "python",
   "name": "python3"
  },
  "language_info": {
   "codemirror_mode": {
    "name": "ipython",
    "version": 3
   },
   "file_extension": ".py",
   "mimetype": "text/x-python",
   "name": "python",
   "nbconvert_exporter": "python",
   "pygments_lexer": "ipython3",
   "version": "3.6.3"
  }
 },
 "nbformat": 4,
 "nbformat_minor": 2
}
